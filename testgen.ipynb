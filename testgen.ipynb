{
  "metadata": {
    "language_info": {
      "codemirror_mode": {
        "name": "python",
        "version": 3
      },
      "file_extension": ".py",
      "mimetype": "text/x-python",
      "name": "python",
      "nbconvert_exporter": "python",
      "pygments_lexer": "ipython3",
      "version": "3.8"
    },
    "kernelspec": {
      "name": "python",
      "display_name": "Python (Pyodide)",
      "language": "python"
    }
  },
  "nbformat_minor": 4,
  "nbformat": 4,
  "cells": [
    {
      "cell_type": "code",
      "source": "import random\n\nNUM_TESTS = 24\nHEAP_SIZE = 1000\nOBJECT_SIZE = 8\nTEST_LENGTH = 10\nSENTINEL_SIZE = 2 * 4 # size of start & end sentinel\nMIN_BLOCK_SIZE = OBJECT_SIZE + 8;\n\n# determine a random number of objects to allocate\ndef allocate(cur_heap_space, max_bytes):\n    \n    max_objects = max_bytes // OBJECT_SIZE\n    return random.randint(1, max_objects)\n\ndef getNumAllocated(blocks):\n    return sum(b[1] for b in blocks)\n\ndef getBiggestFreeBlock(blocks):\n    max_size = 0\n    for size, isAllocated in blocks:\n        if not isAllocated and size > max_size:\n            max_size = size\n    return max_size\n\ndef getFreeBlock(blocks, num_objects): # index of first free block\n    for i, (size, isAllocated) in enumerate(blocks):\n        if not isAllocated and size >= (num_objects * OBJECT_SIZE):\n            return i\n    return -1 # No free block found\n\ndef get_nth_allocated_block(blocks, n): # one-indexed\n    return next((block for block in blocks if block[1] and not (n := n-1)), None)\n\n# takes one index\ndef get_nth_allocated_block_index(blocks, n):\n    return ([i for i, block in enumerate(blocks) if block[1]][n-1] if n <= len([i for i, block in enumerate(blocks) if block[1]]) else -1)\n\n# given the nth allocated block\ndef free_allocated_block(blocks, n):\n    if n < 1 or n > len(blocks):\n        raise ValueError(\"Invalid block index\")\n    if not blocks[n-1][1]:\n        raise ValueError(\"Block is not allocated\")\n\n    # Free the block\n    blocks[n-1] = (blocks[n-1][0], False)\n\n    # Check if adjacent blocks are free and coalesce them\n    coalesced = 0\n    if n > 1 and not blocks[n-2][1]:\n        size = blocks[n-2][0]\n        blocks.pop(n-2)\n        blocks[n-2] = (blocks[n-2][0] + size + 8, False)\n        n -= 1\n        coalesced += 1\n\n    if n < len(blocks) and not blocks[n][1]:\n        size = blocks[n][0]\n        blocks.pop(n)\n        blocks[n-1] = (blocks[n-1][0] + size + 8, False)\n        coalesced += 1\n\n    return blocks, coalesced\n\n\nprint(NUM_TESTS)\nprint()\nfor test_number in range(0, NUM_TESTS):\n    cur_heap_space = HEAP_SIZE - SENTINEL_SIZE\n    blocks = [((HEAP_SIZE - SENTINEL_SIZE), False)] # size, isAllocated\n    \n    for process_num in range(0, TEST_LENGTH):\n        max_bytes = getBiggestFreeBlock(blocks)\n        if getNumAllocated(blocks) == 0: # if no allocated blocks, we can't dealloc\n            num_objects = allocate(cur_heap_space, max_bytes)\n            index = getFreeBlock(blocks, num_objects)\n            assert(index != -1)\n            blocks[index] = (blocks[index][0] - OBJECT_SIZE * num_objects - SENTINEL_SIZE, False)\n            blocks.insert(index, (OBJECT_SIZE * num_objects, True))\n            cur_heap_space += -(OBJECT_SIZE * num_objects + SENTINEL_SIZE)\n            print(num_objects)\n        else:\n            if (random.choice([True, False]) and max_bytes > MIN_BLOCK_SIZE): # allocate\n                num_objects = allocate(cur_heap_space, max_bytes);\n                index = getFreeBlock(blocks, num_objects)\n                assert(index != -1)\n                blocks[index] = (blocks[index][0] - OBJECT_SIZE * num_objects - SENTINEL_SIZE, False)\n                blocks.insert(index, (OBJECT_SIZE * num_objects, True))\n                cur_heap_space += -(OBJECT_SIZE * num_objects + SENTINEL_SIZE)\n                print(num_objects)\n            else: # deallocate\n                dealloc_block_num = random.randint(1, getNumAllocated(blocks))\n                dealloc_block_index = get_nth_allocated_block_index(blocks, dealloc_block_num)\n                block_size = blocks[dealloc_block_index][0]\n                new_block, coalesced = free_allocated_block(blocks, dealloc_block_index + 1)\n                block = new_block\n                cur_heap_space += block_size + (8 * coalesced)\n                print(-dealloc_block_num)\n    if (test_number < NUM_TESTS - 1): print()",
      "metadata": {
        "trusted": true
      },
      "execution_count": 1,
      "outputs": [
        {
          "name": "stdout",
          "text": "24\n\n90\n19\n9\n3\n-1\n-2\n-2\n23\n36\n-3\n\n33\n-1\n55\n47\n10\n8\n-2\n-3\n-2\n46\n\n100\n7\n-2\n-1\n38\n-1\n41\n4\n-1\n-1\n\n73\n11\n15\n-2\n9\n2\n3\n-3\n16\n13\n\n99\n-1\n120\n3\n-1\n73\n-1\n-1\n45\n76\n\n109\n-1\n113\n-1\n28\n45\n29\n-3\n-2\n-1\n\n41\n-1\n76\n16\n25\n2\n-2\n-3\n8\n-1\n\n63\n36\n7\n3\n9\n-5\n-2\n-1\n79\n10\n\n27\n5\n-1\n-1\n74\n-1\n66\n39\n6\n-1\n\n24\n-1\n111\n7\n4\n-1\n47\n-1\n39\n24\n\n32\n-1\n41\n-1\n62\n47\n3\n-3\n-2\n29\n\n120\n-1\n31\n-1\n54\n4\n30\n-2\n13\n-1\n\n43\n57\n21\n-2\n-1\n-1\n81\n2\n19\n10\n\n102\n15\n3\n-1\n72\n-2\n-1\n-1\n33\n-1\n\n123\n-1\n105\n17\n-1\n-1\n7\n-1\n40\n-1\n\n2\n-1\n96\n10\n-2\n-1\n63\n-1\n102\n-1\n\n26\n69\n-1\n12\n-1\n-1\n12\n62\n-1\n-1\n\n20\n-1\n105\n18\n-2\n17\n-2\n5\n12\n-3\n\n107\n9\n4\n-1\n38\n42\n16\n-2\n-4\n-1\n\n102\n21\n-1\n67\n6\n3\n-1\n-2\n-1\n53\n\n74\n9\n23\n-1\n37\n-3\n-1\n28\n-1\n13\n\n117\n4\n-1\n-1\n22\n-1\n18\n-1\n113\n10\n\n122\n-1\n66\n20\n-1\n26\n31\n-2\n-1\n50\n\n31\n-1\n103\n10\n-1\n30\n54\n-1\n16\n8\n",
          "output_type": "stream"
        }
      ]
    },
    {
      "cell_type": "code",
      "source": "",
      "metadata": {},
      "execution_count": null,
      "outputs": []
    }
  ]
}